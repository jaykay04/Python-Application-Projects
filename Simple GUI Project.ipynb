{
 "cells": [
  {
   "cell_type": "code",
   "execution_count": 1,
   "metadata": {},
   "outputs": [],
   "source": [
    "from tkinter import *\n",
    "from tkinter import messagebox"
   ]
  },
  {
   "cell_type": "code",
   "execution_count": 2,
   "metadata": {},
   "outputs": [],
   "source": [
    "master=Tk()\n",
    "font_format=('Helvetica',17,'bold italic')"
   ]
  },
  {
   "cell_type": "code",
   "execution_count": 3,
   "metadata": {},
   "outputs": [],
   "source": [
    "def add():\n",
    "    try:\n",
    "        x=int(num1.get())        #The try and except is used for error trapping\n",
    "        y=int(num2.get())\n",
    "        result=x+y\n",
    "        messagebox.showinfo('Solution','The answer is {}'.format(str(result)))\n",
    "    except:\n",
    "        messagebox.showerror('Error','Invalid Number')\n",
    "    "
   ]
  },
  {
   "cell_type": "code",
   "execution_count": 4,
   "metadata": {},
   "outputs": [],
   "source": [
    "label1=Label(master,text='Enter number 1:',font=font_format)\n",
    "label2=Label(master,text='Enter number 2:',font=font_format)\n",
    "num1=Entry(master)\n",
    "num2=Entry(master)\n",
    "button1=Button(master,text='Add',padx=40,pady=20,command=add,font=font_format) #The padx and pady will increase the button size vertically and\n",
    "                                                              #horizontally\n",
    "button2=Button(master,text='Exit',padx=40,pady=20,command=master.quit,font=font_format)"
   ]
  },
  {
   "cell_type": "code",
   "execution_count": 5,
   "metadata": {},
   "outputs": [],
   "source": [
    "#We use grid to then place the widgets inside the window\n",
    "label1.grid(row=0,column=0)\n",
    "label2.grid(row=1,column=0)\n",
    "num1.grid(row=0,column=1)\n",
    "num2.grid(row=1,column=1)\n",
    "button1.grid(row=2,column=0,columnspan=2) #The column span arg will center the button between the columns\n",
    "button2.grid(row=3,column=0,columnspan=2)"
   ]
  },
  {
   "cell_type": "code",
   "execution_count": 6,
   "metadata": {},
   "outputs": [],
   "source": [
    "master.mainloop()"
   ]
  },
  {
   "cell_type": "code",
   "execution_count": null,
   "metadata": {},
   "outputs": [],
   "source": []
  }
 ],
 "metadata": {
  "kernelspec": {
   "display_name": "Python 3",
   "language": "python",
   "name": "python3"
  },
  "language_info": {
   "codemirror_mode": {
    "name": "ipython",
    "version": 3
   },
   "file_extension": ".py",
   "mimetype": "text/x-python",
   "name": "python",
   "nbconvert_exporter": "python",
   "pygments_lexer": "ipython3",
   "version": "3.7.6"
  }
 },
 "nbformat": 4,
 "nbformat_minor": 4
}
