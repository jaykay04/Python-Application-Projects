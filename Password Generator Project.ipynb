{
 "cells": [
  {
   "cell_type": "markdown",
   "metadata": {},
   "source": [
    "## Install random-password-generator Module from Command Prompt"
   ]
  },
  {
   "cell_type": "code",
   "execution_count": 1,
   "metadata": {},
   "outputs": [],
   "source": [
    "from password_generator import PasswordGenerator"
   ]
  },
  {
   "cell_type": "code",
   "execution_count": 2,
   "metadata": {},
   "outputs": [],
   "source": [
    "password=PasswordGenerator()\n",
    "#We can customize the password by passing some parameters\n",
    "password.minlen=10\n",
    "password.maxlen=12\n",
    "password.minuchars=1\n",
    "\n",
    "\n",
    "#password.generate()"
   ]
  },
  {
   "cell_type": "code",
   "execution_count": 3,
   "metadata": {},
   "outputs": [
    {
     "name": "stdout",
     "output_type": "stream",
     "text": [
      "Help on PasswordGenerator in module password_generator object:\n",
      "\n",
      "class PasswordGenerator(builtins.object)\n",
      " |  We can set properties such as\n",
      " |  \n",
      " |  | minlen     |   Minimum length of the password | 6\n",
      " |  \n",
      " |  | maxlen     |   Maximum length of the password | 16\n",
      " |  \n",
      " |  | minuchars  |   Minimum upper case characters required in password | 1\n",
      " |  \n",
      " |  | minlchars  |   Minimum lower case characters required in password | 1\n",
      " |  \n",
      " |  | minnumbers |   Minimum numbers required in password               | 1\n",
      " |  \n",
      " |  | minschars  |   Minimum special characters in the password         | 1\n",
      " |  \n",
      " |  \n",
      " |  Methods implemented in this class are\n",
      " |  \n",
      " |  generate() : Generates a password using default or custom propertiesself.\n",
      " |  \n",
      " |  shuffle_password(password, length) : Shuffle the given charactes and return a password from given characters.\n",
      " |  \n",
      " |  non_duplicate_password(length) : Generate a non duplicate key of givrn length\n",
      " |  \n",
      " |  Methods defined here:\n",
      " |  \n",
      " |  __init__(self)\n",
      " |      Initialize self.  See help(type(self)) for accurate signature.\n",
      " |  \n",
      " |  generate(self)\n",
      " |      Generates a password using default or custom properties\n",
      " |  \n",
      " |  non_duplicate_password(self, maxlen)\n",
      " |      Generate a non duplicate key of given length\n",
      " |  \n",
      " |  shuffle_password(self, password, maxlen)\n",
      " |      Shuffle the given charactes and return a password from given characters.\n",
      " |  \n",
      " |  ----------------------------------------------------------------------\n",
      " |  Data descriptors defined here:\n",
      " |  \n",
      " |  __dict__\n",
      " |      dictionary for instance variables (if defined)\n",
      " |  \n",
      " |  __weakref__\n",
      " |      list of weak references to the object (if defined)\n",
      "\n"
     ]
    }
   ],
   "source": [
    "#To get the password documentation(for customizing our password)\n",
    "help(password)"
   ]
  },
  {
   "cell_type": "code",
   "execution_count": 4,
   "metadata": {},
   "outputs": [],
   "source": [
    "#Lets Develop a GUI for our password Generator\n",
    "from tkinter import *"
   ]
  },
  {
   "cell_type": "code",
   "execution_count": 5,
   "metadata": {},
   "outputs": [
    {
     "data": {
      "text/plain": [
       "''"
      ]
     },
     "execution_count": 5,
     "metadata": {},
     "output_type": "execute_result"
    }
   ],
   "source": [
    "master=Tk()\n",
    "master.title('Password Generator')"
   ]
  },
  {
   "cell_type": "code",
   "execution_count": 6,
   "metadata": {},
   "outputs": [],
   "source": [
    "def create():\n",
    "    result=password.generate()\n",
    "    pwrd.insert(0,result)"
   ]
  },
  {
   "cell_type": "code",
   "execution_count": 7,
   "metadata": {},
   "outputs": [],
   "source": [
    "def clear_it():\n",
    "    pwrd.delete(0,END)"
   ]
  },
  {
   "cell_type": "code",
   "execution_count": 8,
   "metadata": {},
   "outputs": [],
   "source": [
    "label1=Label(master,text='Password Generator',font=('Helvetica',15,'bold'))\n",
    "pwrd=Entry(master)\n",
    "button1=Button(master,text='Generate',command=create)\n",
    "button2=Button(master,text='Clear',command=clear_it)\n"
   ]
  },
  {
   "cell_type": "code",
   "execution_count": 9,
   "metadata": {},
   "outputs": [],
   "source": [
    "label1.grid(row=0,column=0)\n",
    "pwrd.grid(row=1,column=0)\n",
    "button1.grid(row=2,column=0)\n",
    "button2.grid(row=3,column=0)"
   ]
  },
  {
   "cell_type": "code",
   "execution_count": null,
   "metadata": {},
   "outputs": [],
   "source": [
    "master.mainloop()"
   ]
  },
  {
   "cell_type": "code",
   "execution_count": null,
   "metadata": {},
   "outputs": [],
   "source": []
  }
 ],
 "metadata": {
  "kernelspec": {
   "display_name": "Python 3",
   "language": "python",
   "name": "python3"
  },
  "language_info": {
   "codemirror_mode": {
    "name": "ipython",
    "version": 3
   },
   "file_extension": ".py",
   "mimetype": "text/x-python",
   "name": "python",
   "nbconvert_exporter": "python",
   "pygments_lexer": "ipython3",
   "version": "3.7.6"
  }
 },
 "nbformat": 4,
 "nbformat_minor": 4
}
